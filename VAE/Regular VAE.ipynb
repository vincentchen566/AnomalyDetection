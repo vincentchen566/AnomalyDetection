{
 "cells": [
  {
   "cell_type": "code",
   "execution_count": 1,
   "id": "54aa038e",
   "metadata": {},
   "outputs": [
    {
     "name": "stderr",
     "output_type": "stream",
     "text": [
      "C:\\Users\\vince\\anaconda3\\envs\\anomaly\\lib\\site-packages\\tqdm\\auto.py:22: TqdmWarning: IProgress not found. Please update jupyter and ipywidgets. See https://ipywidgets.readthedocs.io/en/stable/user_install.html\n",
      "  from .autonotebook import tqdm as notebook_tqdm\n"
     ]
    }
   ],
   "source": [
    "import torch\n",
    "import numpy as np\n",
    "import matplotlib.pyplot as plt"
   ]
  },
  {
   "cell_type": "markdown",
   "id": "445aaf2b",
   "metadata": {},
   "source": [
    "# Data"
   ]
  },
  {
   "cell_type": "code",
   "execution_count": 2,
   "id": "0b10c1f0",
   "metadata": {},
   "outputs": [
    {
     "name": "stdout",
     "output_type": "stream",
     "text": [
      "shape of data_train:  (499889, 7)\n",
      "shape of data_test:  (378759, 7)\n",
      "shape of data:  (878648, 7)\n"
     ]
    }
   ],
   "source": [
    "outerdata_train = np.load(\"outerdata_train_6var.npy\")\n",
    "outerdata_test = np.load(\"outerdata_test_6var.npy\")\n",
    "\n",
    "nFeat = 7\n",
    "input_dim = 7\n",
    "\n",
    "outerdata_train = outerdata_train[outerdata_train[:,nFeat]==0]\n",
    "outerdata_test = outerdata_test[outerdata_test[:,nFeat]==0]\n",
    "\n",
    "data_train = outerdata_train[:,0:nFeat]\n",
    "print('shape of data_train: ', data_train.shape)\n",
    "data_test = outerdata_test[:,0:nFeat]\n",
    "print('shape of data_test: ', data_test.shape)\n",
    "\n",
    "data = np.concatenate((data_train, data_test), axis=0)\n",
    "print('shape of data: ', data.shape)\n"
   ]
  },
  {
   "cell_type": "code",
   "execution_count": 3,
   "id": "8596c929",
   "metadata": {},
   "outputs": [],
   "source": [
    "feature_max = np.empty(nFeat)\n",
    "\n",
    "for i in range(0,data.shape[1]):\n",
    "    feature_max[i] = np.max(np.abs(data[:,i]))\n",
    "    if np.abs(feature_max[i]) > 0: \n",
    "        data[:,i] = data[:,i]/feature_max[i]\n",
    "    else:\n",
    "        pass\n"
   ]
  },
  {
   "cell_type": "markdown",
   "id": "53cd1873",
   "metadata": {},
   "source": [
    "## preparing for training"
   ]
  },
  {
   "cell_type": "code",
   "execution_count": 4,
   "id": "14bfdd17",
   "metadata": {},
   "outputs": [
    {
     "name": "stdout",
     "output_type": "stream",
     "text": [
      "Data Shape:  (878648, 7)\n"
     ]
    }
   ],
   "source": [
    "trainsize = outerdata_train.shape[0]\n",
    "\n",
    "\n",
    "print(\"Data Shape: \", np.shape(data))\n",
    "x_train = data[:trainsize]\n",
    "x_test = data[trainsize:]\n",
    "\n",
    "\n",
    "# x_train = np.hstack([x_train,y_train.reshape(y_train.shape[0],1)])\n",
    "# x_test = np.hstack([x_test,y_test.reshape(y_test.shape[0],1)])\n",
    "\n",
    "image_size = x_train.shape[1]\n",
    "original_dim = image_size\n",
    "x_train = np.reshape(x_train, [-1, original_dim])\n",
    "x_test = np.reshape(x_test, [-1, original_dim])\n",
    "x_train = x_train.astype('float32')\n",
    "x_test = x_test.astype('float32')\n",
    "\n",
    "x_train = torch.from_numpy(x_train).float()\n"
   ]
  },
  {
   "cell_type": "markdown",
   "id": "5e6a98f6",
   "metadata": {},
   "source": [
    "# Defining Model"
   ]
  },
  {
   "cell_type": "code",
   "execution_count": 5,
   "id": "41cf49fd",
   "metadata": {},
   "outputs": [],
   "source": [
    "intermediate_dim = 128\n",
    "encoder_dim = 128\n",
    "batch_size = 1024\n",
    "latent_dim = 3\n",
    "epochs_1, epochs_2 = 120, 120\n",
    "input_dim = 7\n",
    "lr=0.003"
   ]
  },
  {
   "cell_type": "code",
   "execution_count": 55,
   "id": "f92909ba",
   "metadata": {},
   "outputs": [],
   "source": [
    "class Encoder(torch.nn.Module):\n",
    "    def __init__(self, latent_dim):\n",
    "        super(Encoder, self).__init__()\n",
    "        self.linear1 = torch.nn.Linear(7, 32)\n",
    "        self.linear2 = torch.nn.Linear(32, 64)\n",
    "        self.linear3 = torch.nn.Linear(64,32)\n",
    "        \n",
    "        self.z_mean = torch.nn.Linear(32, 3)\n",
    "        self.z_log_var = torch.nn.Linear(32,3)\n",
    "        \n",
    "    def latent_space(self, x):\n",
    "        x1 = torch.nn.functional.relu(self.linear1(x))\n",
    "        x2 = torch.nn.functional.relu(self.linear2(x1))\n",
    "        x3 = torch.nn.functional.relu(self.linear3(x2))\n",
    "        \n",
    "        z_mean = self.z_mean(x3)\n",
    "\n",
    "        \n",
    "        return z_mean\n",
    "    def forward(self, x):\n",
    "        x1 = torch.nn.functional.relu(self.linear1(x))\n",
    "        x2 = torch.nn.functional.relu(self.linear2(x1))\n",
    "        x3 = torch.nn.functional.relu(self.linear3(x2))\n",
    "        \n",
    "        z_mean = self.z_mean(x3)\n",
    "        z_log_var = self.z_log_var(x3)\n",
    "        \n",
    "        epsilon = torch.randn(z_mean.shape)\n",
    "#        epsilon = torch.randn((latent_dim))\n",
    "        \n",
    "        return z_mean + torch.exp(0.5 * z_log_var) * epsilon, z_mean, z_log_var\n",
    "        \n",
    "                                                   \n",
    "        \n",
    "        "
   ]
  },
  {
   "cell_type": "code",
   "execution_count": null,
   "id": "697550b1",
   "metadata": {},
   "outputs": [],
   "source": []
  },
  {
   "cell_type": "code",
   "execution_count": 70,
   "id": "c38eabc7",
   "metadata": {},
   "outputs": [],
   "source": [
    "class Decoder(torch.nn.Module):\n",
    "    def __init__(self, latent_dim):\n",
    "        super(Decoder, self).__init__()\n",
    "        self.linear1 = torch.nn.Linear(3, 32)\n",
    "        self.linear2 = torch.nn.Linear(32, 64)\n",
    "        self.linear3 = torch.nn.Linear(64,32)\n",
    "        self.linear4 = torch.nn.Linear(32,7)\n",
    "        \n",
    "    def forward(self, x):\n",
    "        \n",
    "        \n",
    "        x1 = torch.nn.functional.relu(self.linear1(x))\n",
    "        x2 = torch.nn.functional.relu(self.linear2(x1))\n",
    "        x3 = torch.nn.functional.relu(self.linear3(x2))\n",
    "        generated = torch.sigmoid(self.linear4(x3))\n",
    "        return generated"
   ]
  },
  {
   "cell_type": "code",
   "execution_count": 71,
   "id": "9427c0fd",
   "metadata": {},
   "outputs": [],
   "source": [
    "class VAE(torch.nn.Module):\n",
    "    def __init__(self, latent_dim):\n",
    "        super(VAE,self).__init__()\n",
    "        self.encoder = Encoder(latent_dim)\n",
    "        self.decoder = Decoder(latent_dim)\n",
    "        \n",
    "    def forward(self, x):\n",
    "        latent, z_mean, z_log_var = self.encoder(x)\n",
    "        generated = torch.nn.functional.relu(self.decoder(latent))\n",
    "        return generated, z_mean, z_log_var\n",
    "        \n",
    "    def generate(self, n):\n",
    "        epsilon = torch.randn((n,3))\n",
    "        print(epsilon)\n",
    "        return self.decoder(epsilon)"
   ]
  },
  {
   "cell_type": "code",
   "execution_count": 72,
   "id": "ce10ba96",
   "metadata": {},
   "outputs": [],
   "source": [
    "model = VAE(3)\n",
    "\n",
    "def loss_function(x, x_hat, mean, log_var):\n",
    "    reconstruction_loss = torch.nn.functional.binary_cross_entropy(x_hat, x, reduction='sum')\n",
    "    \n",
    "    #check this is right :bangbang:\n",
    "    KLD      = - 0.5 * torch.sum(1+ log_var - mean.pow(2) - log_var.exp())\n",
    "\n",
    "    return reconstruction_loss + KLD, reconstruction_loss, KLD\n",
    "\n",
    "\n",
    "optimizer = torch.optim.Adam(model.parameters(), lr=lr)"
   ]
  },
  {
   "cell_type": "markdown",
   "id": "c8c8bf99",
   "metadata": {},
   "source": [
    "# Training Model"
   ]
  },
  {
   "cell_type": "code",
   "execution_count": 73,
   "id": "eebb854e",
   "metadata": {},
   "outputs": [],
   "source": [
    "train_loss_list=[]"
   ]
  },
  {
   "cell_type": "code",
   "execution_count": 74,
   "id": "37c21a79",
   "metadata": {},
   "outputs": [
    {
     "name": "stdout",
     "output_type": "stream",
     "text": [
      "Start training VAE...\n"
     ]
    },
    {
     "name": "stderr",
     "output_type": "stream",
     "text": [
      "C:\\Users\\vince\\anaconda3\\envs\\anomaly\\lib\\site-packages\\torch\\nn\\functional.py:1806: UserWarning: nn.functional.sigmoid is deprecated. Use torch.sigmoid instead.\n",
      "  warnings.warn(\"nn.functional.sigmoid is deprecated. Use torch.sigmoid instead.\")\n"
     ]
    },
    {
     "name": "stdout",
     "output_type": "stream",
     "text": [
      "\tEpoch 1 complete! \tAverage Loss:  4.845875284313117 \t KLD:  0.020799301038580565\n",
      "\tEpoch 2 complete! \tAverage Loss:  4.799563002986663 \t KLD:  0.012680475221749228\n",
      "\tEpoch 3 complete! \tAverage Loss:  4.761571068777268 \t KLD:  0.007657253621241415\n",
      "\tEpoch 4 complete! \tAverage Loss:  4.728233167763244 \t KLD:  0.004730459341661349\n",
      "\tEpoch 5 complete! \tAverage Loss:  4.6956979449437775 \t KLD:  0.0034570003642371105\n",
      "\tEpoch 6 complete! \tAverage Loss:  4.660905220959053 \t KLD:  0.002852723880873429\n",
      "\tEpoch 7 complete! \tAverage Loss:  4.623387892112049 \t KLD:  0.0024200931688866177\n",
      "\tEpoch 8 complete! \tAverage Loss:  4.5828568942305195 \t KLD:  0.002024064698808448\n",
      "\tEpoch 9 complete! \tAverage Loss:  4.538781609517313 \t KLD:  0.0017444004404915392\n",
      "\tEpoch 10 complete! \tAverage Loss:  4.491094522984103 \t KLD:  0.0016289926178064656\n",
      "\tEpoch 11 complete! \tAverage Loss:  4.439756625970966 \t KLD:  0.0016913642523952816\n",
      "\tEpoch 12 complete! \tAverage Loss:  4.386234744113193 \t KLD:  0.0019244865621886808\n",
      "\tEpoch 13 complete! \tAverage Loss:  4.330762429259296 \t KLD:  0.0022997488254892584\n",
      "\tEpoch 14 complete! \tAverage Loss:  4.276198816137183 \t KLD:  0.0027361081484308268\n",
      "\tEpoch 15 complete! \tAverage Loss:  4.225259007499665 \t KLD:  0.0031087931794295835\n",
      "\tEpoch 16 complete! \tAverage Loss:  4.180823142737688 \t KLD:  0.0032859516492348803\n",
      "\tEpoch 17 complete! \tAverage Loss:  4.146399500689153 \t KLD:  0.0031978759440845867\n",
      "\tEpoch 18 complete! \tAverage Loss:  4.124336852781317 \t KLD:  0.0028628137673125933\n",
      "\tEpoch 19 complete! \tAverage Loss:  4.113141617439071 \t KLD:  0.002361253934701629\n",
      "\tEpoch 20 complete! \tAverage Loss:  4.1094580496870305 \t KLD:  0.0018119615816429998\n",
      "\tEpoch 21 complete! \tAverage Loss:  4.108726387257971 \t KLD:  0.0013468456305893658\n",
      "\tEpoch 22 complete! \tAverage Loss:  4.106153816147184 \t KLD:  0.0010659723636381653\n",
      "\tEpoch 23 complete! \tAverage Loss:  4.10205440607815 \t KLD:  0.0010249276071709794\n",
      "\tEpoch 24 complete! \tAverage Loss:  4.096623700461502 \t KLD:  0.0012128864482915207\n",
      "\tEpoch 25 complete! \tAverage Loss:  4.090660376603606 \t KLD:  0.0015499543193510834\n",
      "\tEpoch 26 complete! \tAverage Loss:  4.0853466969667265 \t KLD:  0.0020756258279963154\n",
      "\tEpoch 27 complete! \tAverage Loss:  4.080416102374727 \t KLD:  0.0027281818282408696\n",
      "\tEpoch 28 complete! \tAverage Loss:  4.077010346296878 \t KLD:  0.003472484270414282\n",
      "\tEpoch 29 complete! \tAverage Loss:  4.074167465177269 \t KLD:  0.0042698395059328174\n",
      "\tEpoch 30 complete! \tAverage Loss:  4.071543632686456 \t KLD:  0.004991626207424298\n",
      "\tEpoch 31 complete! \tAverage Loss:  4.068486203937274 \t KLD:  0.0054417319902830925\n",
      "\tEpoch 32 complete! \tAverage Loss:  4.0655220458941885 \t KLD:  0.005478827139468712\n",
      "\tEpoch 33 complete! \tAverage Loss:  4.061863233637868 \t KLD:  0.005094804874807207\n",
      "\tEpoch 34 complete! \tAverage Loss:  4.057927359873892 \t KLD:  0.004391462209297964\n",
      "\tEpoch 35 complete! \tAverage Loss:  4.054280050171138 \t KLD:  0.0035250584418803476\n",
      "\tEpoch 36 complete! \tAverage Loss:  4.051176611207688 \t KLD:  0.0026467274660755937\n",
      "\tEpoch 37 complete! \tAverage Loss:  4.048324478034123 \t KLD:  0.001864782878283354\n",
      "\tEpoch 38 complete! \tAverage Loss:  4.046260269779891 \t KLD:  0.0012356760534823106\n",
      "\tEpoch 39 complete! \tAverage Loss:  4.044563893184287 \t KLD:  0.0007741708283262322\n",
      "\tEpoch 40 complete! \tAverage Loss:  4.043614182348481 \t KLD:  0.00046405361194286695\n",
      "\tEpoch 41 complete! \tAverage Loss:  4.042967038682588 \t KLD:  0.000272097331877208\n",
      "\tEpoch 42 complete! \tAverage Loss:  4.0424981845969805 \t KLD:  0.0001645178919905766\n",
      "\tEpoch 43 complete! \tAverage Loss:  4.041891549924083 \t KLD:  0.00011483301856488703\n",
      "\tEpoch 44 complete! \tAverage Loss:  4.041295417582703 \t KLD:  0.00010209598378984666\n",
      "\tEpoch 45 complete! \tAverage Loss:  4.040478236168429 \t KLD:  0.00011043564952669493\n",
      "\tEpoch 46 complete! \tAverage Loss:  4.039654553310835 \t KLD:  0.00012876088472109557\n",
      "\tEpoch 47 complete! \tAverage Loss:  4.038962649708235 \t KLD:  0.00015007897182862096\n",
      "\tEpoch 48 complete! \tAverage Loss:  4.037668112320935 \t KLD:  0.00017044448540427538\n",
      "\tEpoch 49 complete! \tAverage Loss:  4.036761911144274 \t KLD:  0.0001880716286105359\n",
      "\tEpoch 50 complete! \tAverage Loss:  4.035679420831425 \t KLD:  0.00020251239549594073\n",
      "\tEpoch 51 complete! \tAverage Loss:  4.034697452834529 \t KLD:  0.00021393262487866057\n",
      "\tEpoch 52 complete! \tAverage Loss:  4.03383351103945 \t KLD:  0.0002227395116481484\n",
      "\tEpoch 53 complete! \tAverage Loss:  4.032992824407018 \t KLD:  0.00022902473570324017\n",
      "\tEpoch 54 complete! \tAverage Loss:  4.032314923913109 \t KLD:  0.0002324021944834644\n",
      "\tEpoch 55 complete! \tAverage Loss:  4.03148749022283 \t KLD:  0.00023202291411623068\n",
      "\tEpoch 56 complete! \tAverage Loss:  4.030625048760825 \t KLD:  0.0002268169549264937\n",
      "\tEpoch 57 complete! \tAverage Loss:  4.030047920638382 \t KLD:  0.00021639752755580488\n",
      "\tEpoch 58 complete! \tAverage Loss:  4.029178227566519 \t KLD:  0.00020101087197217158\n",
      "\tEpoch 59 complete! \tAverage Loss:  4.028540586010094 \t KLD:  0.0001821604652580529\n",
      "\tEpoch 60 complete! \tAverage Loss:  4.027993964660155 \t KLD:  0.00016229683311960882\n",
      "\tEpoch 61 complete! \tAverage Loss:  4.027530861851331 \t KLD:  0.00014407116836969057\n",
      "\tEpoch 62 complete! \tAverage Loss:  4.0269224767898475 \t KLD:  0.00012992700663727036\n",
      "\tEpoch 63 complete! \tAverage Loss:  4.026561146574539 \t KLD:  0.00012144098425153118\n",
      "\tEpoch 64 complete! \tAverage Loss:  4.02632009306066 \t KLD:  0.00011922619050433102\n",
      "\tEpoch 65 complete! \tAverage Loss:  4.026003022671033 \t KLD:  0.00012288477095870361\n",
      "\tEpoch 66 complete! \tAverage Loss:  4.025671699117204 \t KLD:  0.0001311955682872535\n",
      "\tEpoch 67 complete! \tAverage Loss:  4.02529036446091 \t KLD:  0.00014237161809589697\n",
      "\tEpoch 68 complete! \tAverage Loss:  4.024964542128353 \t KLD:  0.00015440940095732503\n",
      "\tEpoch 69 complete! \tAverage Loss:  4.024604462190607 \t KLD:  0.00016569790248806328\n",
      "\tEpoch 70 complete! \tAverage Loss:  4.024187119540538 \t KLD:  0.00017507968495080126\n",
      "\tEpoch 71 complete! \tAverage Loss:  4.023977072910186 \t KLD:  0.00018202989733154354\n",
      "\tEpoch 72 complete! \tAverage Loss:  4.023494965882426 \t KLD:  0.000186685624506492\n",
      "\tEpoch 73 complete! \tAverage Loss:  4.023286919696172 \t KLD:  0.00018890524873279682\n",
      "\tEpoch 74 complete! \tAverage Loss:  4.023084124675678 \t KLD:  0.0001886333225204511\n",
      "\tEpoch 75 complete! \tAverage Loss:  4.022776056284495 \t KLD:  0.00018560242199940262\n",
      "\tEpoch 76 complete! \tAverage Loss:  4.022573011208488 \t KLD:  0.000179701728500524\n",
      "\tEpoch 77 complete! \tAverage Loss:  4.022423478012119 \t KLD:  0.00017118943227662165\n",
      "\tEpoch 78 complete! \tAverage Loss:  4.022228184656994 \t KLD:  0.00016081244902090922\n",
      "\tEpoch 79 complete! \tAverage Loss:  4.0221391648946065 \t KLD:  0.00014943142817158534\n",
      "\tEpoch 80 complete! \tAverage Loss:  4.0220071355841 \t KLD:  0.00013785876016233416\n",
      "\tEpoch 81 complete! \tAverage Loss:  4.021848350333774 \t KLD:  0.00012657619561855232\n",
      "\tEpoch 82 complete! \tAverage Loss:  4.021722072300051 \t KLD:  0.0001157450862782944\n",
      "\tEpoch 83 complete! \tAverage Loss:  4.021600045210037 \t KLD:  0.000105548654579637\n",
      "\tEpoch 84 complete! \tAverage Loss:  4.021468265955042 \t KLD:  9.62798045975777e-05\n",
      "\tEpoch 85 complete! \tAverage Loss:  4.021349239531176 \t KLD:  8.808100112580462e-05\n",
      "\tEpoch 86 complete! \tAverage Loss:  4.021232713662433 \t KLD:  8.102274016110874e-05\n",
      "\tEpoch 87 complete! \tAverage Loss:  4.021212459165935 \t KLD:  7.505737318606606e-05\n",
      "\tEpoch 88 complete! \tAverage Loss:  4.021127190236233 \t KLD:  6.997145102052499e-05\n",
      "\tEpoch 89 complete! \tAverage Loss:  4.0210269179757905 \t KLD:  6.54026266829283e-05\n",
      "\tEpoch 90 complete! \tAverage Loss:  4.0209629037646355 \t KLD:  6.093436101579199e-05\n",
      "\tEpoch 91 complete! \tAverage Loss:  4.020994160703676 \t KLD:  5.63063919257458e-05\n",
      "\tEpoch 92 complete! \tAverage Loss:  4.020945399878773 \t KLD:  5.1509142396555394e-05\n",
      "\tEpoch 93 complete! \tAverage Loss:  4.02093314715867 \t KLD:  4.686672002463844e-05\n",
      "\tEpoch 94 complete! \tAverage Loss:  4.020870633280588 \t KLD:  4.257006227867938e-05\n",
      "\tEpoch 95 complete! \tAverage Loss:  4.020824122955296 \t KLD:  3.845423080896615e-05\n",
      "\tEpoch 96 complete! \tAverage Loss:  4.020826373454907 \t KLD:  3.4709743374308394e-05\n",
      "\tEpoch 97 complete! \tAverage Loss:  4.020795866682404 \t KLD:  3.157792933717809e-05\n",
      "\tEpoch 98 complete! \tAverage Loss:  4.020787614850497 \t KLD:  2.893618762759864e-05\n"
     ]
    },
    {
     "name": "stdout",
     "output_type": "stream",
     "text": [
      "\tEpoch 99 complete! \tAverage Loss:  4.020768860687072 \t KLD:  2.6515545264525286e-05\n",
      "\tEpoch 100 complete! \tAverage Loss:  4.020769360798097 \t KLD:  2.4240534596922704e-05\n",
      "\tEpoch 101 complete! \tAverage Loss:  4.020752857134283 \t KLD:  2.2251949210068386e-05\n",
      "\tEpoch 102 complete! \tAverage Loss:  4.020726101194465 \t KLD:  2.0605782216806427e-05\n",
      "\tEpoch 103 complete! \tAverage Loss:  4.0207085973086025 \t KLD:  1.9225625434427497e-05\n",
      "\tEpoch 104 complete! \tAverage Loss:  4.020724100750367 \t KLD:  1.7977856593196894e-05\n",
      "\tEpoch 105 complete! \tAverage Loss:  4.020718099418071 \t KLD:  1.68305586649074e-05\n",
      "\tEpoch 106 complete! \tAverage Loss:  4.020716849140509 \t KLD:  1.5782698590935333e-05\n",
      "\tEpoch 107 complete! \tAverage Loss:  4.020695844477474 \t KLD:  1.480865785285388e-05\n",
      "\tEpoch 108 complete! \tAverage Loss:  4.02067934081366 \t KLD:  1.3948718105898024e-05\n",
      "\tEpoch 109 complete! \tAverage Loss:  4.020683341701858 \t KLD:  1.321647890389772e-05\n",
      "\tEpoch 110 complete! \tAverage Loss:  4.020642582653349 \t KLD:  1.265359931358619e-05\n",
      "\tEpoch 111 complete! \tAverage Loss:  4.020665837815995 \t KLD:  1.2246121119967735e-05\n",
      "\tEpoch 112 complete! \tAverage Loss:  4.0206505844297435 \t KLD:  1.1886513699229705e-05\n",
      "\tEpoch 113 complete! \tAverage Loss:  4.020613576213919 \t KLD:  1.151191691264445e-05\n",
      "\tEpoch 114 complete! \tAverage Loss:  4.020643832930911 \t KLD:  1.1128301133181156e-05\n",
      "\tEpoch 115 complete! \tAverage Loss:  4.020610325492259 \t KLD:  1.0721450596602758e-05\n",
      "\tEpoch 116 complete! \tAverage Loss:  4.020611325714309 \t KLD:  1.0273297746684724e-05\n",
      "\tEpoch 117 complete! \tAverage Loss:  4.020601573549328 \t KLD:  9.80534031399209e-06\n",
      "\tEpoch 118 complete! \tAverage Loss:  4.020601323493816 \t KLD:  9.371421352146622e-06\n",
      "\tEpoch 119 complete! \tAverage Loss:  4.020591571328835 \t KLD:  9.030347937925814e-06\n",
      "\tEpoch 120 complete! \tAverage Loss:  4.0205685662217014 \t KLD:  8.770690608329698e-06\n"
     ]
    }
   ],
   "source": [
    "print(\"Start training VAE...\")\n",
    "\n",
    "for epoch in range(epochs_1):\n",
    "\n",
    "    optimizer.zero_grad()\n",
    "\n",
    "    x_hat, mean, log_var = model(x_train)\n",
    "    loss, reconstruction_loss, KLD = loss_function(x_train, x_hat, mean, log_var)\n",
    "\n",
    "    train_loss_list.append(loss.item()/499889)\n",
    "\n",
    "    loss.backward()\n",
    "    optimizer.step()\n",
    "        \n",
    "    print(\"\\tEpoch\", epoch + 1, \"complete!\", \"\\tAverage Loss: \", loss.item()/499889, \"\\t KLD: \", + KLD.item()/499889)\n"
   ]
  },
  {
   "cell_type": "markdown",
   "id": "d3ca6112",
   "metadata": {},
   "source": [
    "# Generate Data"
   ]
  },
  {
   "cell_type": "code",
   "execution_count": 75,
   "id": "1417b594",
   "metadata": {},
   "outputs": [
    {
     "name": "stdout",
     "output_type": "stream",
     "text": [
      "tensor([[0.3272, 0.1162, 0.1195, 0.5849, 0.4940, 0.5726, 0.6209],\n",
      "        [0.3122, 0.0977, 0.1060, 0.5939, 0.4990, 0.5766, 0.6306],\n",
      "        [0.3222, 0.1096, 0.1145, 0.5886, 0.4913, 0.5762, 0.6222],\n",
      "        [0.3211, 0.1048, 0.1069, 0.5908, 0.4879, 0.5755, 0.6284],\n",
      "        [0.3158, 0.1013, 0.1071, 0.5923, 0.4944, 0.5784, 0.6273],\n",
      "        [0.3196, 0.1046, 0.1059, 0.5901, 0.4862, 0.5840, 0.6237],\n",
      "        [0.3249, 0.1089, 0.1136, 0.5904, 0.5003, 0.5725, 0.6243],\n",
      "        [0.3185, 0.1005, 0.1059, 0.5907, 0.4951, 0.5769, 0.6287],\n",
      "        [0.3198, 0.1067, 0.1133, 0.5916, 0.4979, 0.5736, 0.6210],\n",
      "        [0.3151, 0.0982, 0.1037, 0.5922, 0.4926, 0.5774, 0.6323]],\n",
      "       grad_fn=<ReluBackward0>)\n"
     ]
    }
   ],
   "source": [
    "print(model(x_train[0:10])[0])"
   ]
  },
  {
   "cell_type": "code",
   "execution_count": 76,
   "id": "c75a977c",
   "metadata": {},
   "outputs": [
    {
     "name": "stdout",
     "output_type": "stream",
     "text": [
      "tensor([[0.2787, 0.0569, 0.0194, 0.6070, 0.5155, 0.6714, 0.6561],\n",
      "        [0.2465, 0.0345, 0.0051, 0.8700, 0.8715, 0.6390, 0.7017],\n",
      "        [0.3293, 0.0899, 0.0841, 0.4540, 0.5882, 0.6028, 0.6752],\n",
      "        [0.6046, 0.0901, 0.0906, 0.6832, 0.5907, 0.6041, 0.6881],\n",
      "        [0.3198, 0.0528, 0.1129, 0.6486, 0.6512, 0.5829, 0.3785],\n",
      "        [0.2530, 0.0801, 0.0181, 0.7023, 0.6867, 0.7269, 0.6328],\n",
      "        [0.3213, 0.1343, 0.0495, 0.7171, 0.2177, 0.5438, 0.6784],\n",
      "        [0.2830, 0.0473, 0.0356, 0.8473, 0.6749, 0.5724, 0.6311],\n",
      "        [0.3050, 0.0603, 0.0776, 0.4034, 0.5401, 0.4687, 0.6374],\n",
      "        [0.2948, 0.0426, 0.0580, 0.7899, 0.6764, 0.6356, 0.6170]])\n"
     ]
    }
   ],
   "source": [
    "print(x_train[0:10])"
   ]
  },
  {
   "cell_type": "code",
   "execution_count": 77,
   "id": "f1cf9947",
   "metadata": {},
   "outputs": [],
   "source": [
    "torch.save(model.state_dict(), \"model_saved_2\")"
   ]
  },
  {
   "cell_type": "code",
   "execution_count": 78,
   "id": "25a42d78",
   "metadata": {},
   "outputs": [
    {
     "name": "stdout",
     "output_type": "stream",
     "text": [
      "tensor([[-0.0729, -0.6894,  0.2598],\n",
      "        [ 3.6358,  1.1652,  0.4292],\n",
      "        [ 1.5079,  0.4950,  0.0672],\n",
      "        [ 1.1718,  1.3428, -0.6435],\n",
      "        [-0.0618, -0.0520,  0.6859],\n",
      "        [ 1.2829, -1.2140, -0.3201],\n",
      "        [-0.0807, -1.9436, -0.4892],\n",
      "        [ 0.9971, -1.0019, -0.5224],\n",
      "        [ 1.1690,  0.2101,  0.1673],\n",
      "        [-0.1993,  1.3696, -0.1083],\n",
      "        [ 1.1759,  1.6017,  0.3167],\n",
      "        [-0.5508, -0.9267,  0.6122],\n",
      "        [ 0.5159,  0.3527, -0.0392],\n",
      "        [ 1.1759,  0.4744, -1.6510],\n",
      "        [ 1.9841,  0.0258,  1.8426],\n",
      "        [-0.1164, -0.2266,  0.3402],\n",
      "        [-0.4711, -0.8833,  0.1690],\n",
      "        [ 2.8058,  0.6220,  0.4848],\n",
      "        [-1.2177, -2.3533,  1.0265],\n",
      "        [ 0.7099,  1.2243, -0.5948]])\n",
      "tensor([[0.3184, 0.1054, 0.1136, 0.5903, 0.4983, 0.5749, 0.6229],\n",
      "        [0.3032, 0.0774, 0.0779, 0.6035, 0.4883, 0.5981, 0.6444],\n",
      "        [0.3186, 0.1045, 0.1077, 0.5904, 0.4895, 0.5795, 0.6254],\n",
      "        [0.3220, 0.1103, 0.1143, 0.5862, 0.4945, 0.5794, 0.6219],\n",
      "        [0.3168, 0.1038, 0.1122, 0.5910, 0.4987, 0.5744, 0.6227],\n",
      "        [0.3225, 0.1087, 0.1126, 0.5894, 0.4925, 0.5744, 0.6240],\n",
      "        [0.3188, 0.1049, 0.1129, 0.5871, 0.4947, 0.5784, 0.6281],\n",
      "        [0.3198, 0.1055, 0.1103, 0.5914, 0.4937, 0.5745, 0.6266],\n",
      "        [0.3165, 0.1019, 0.1065, 0.5921, 0.4923, 0.5793, 0.6269],\n",
      "        [0.3111, 0.0986, 0.1058, 0.5932, 0.4953, 0.5799, 0.6287],\n",
      "        [0.3156, 0.1008, 0.1049, 0.5892, 0.4890, 0.5828, 0.6263],\n",
      "        [0.3189, 0.1062, 0.1144, 0.5898, 0.4954, 0.5756, 0.6224],\n",
      "        [0.3164, 0.1030, 0.1096, 0.5901, 0.4945, 0.5776, 0.6258],\n",
      "        [0.3286, 0.1180, 0.1212, 0.5842, 0.4958, 0.5737, 0.6189],\n",
      "        [0.3192, 0.1013, 0.1038, 0.5944, 0.4949, 0.5833, 0.6227],\n",
      "        [0.3174, 0.1050, 0.1135, 0.5903, 0.4984, 0.5746, 0.6227],\n",
      "        [0.3201, 0.1090, 0.1175, 0.5880, 0.4952, 0.5749, 0.6216],\n",
      "        [0.3174, 0.0986, 0.0987, 0.5931, 0.4858, 0.5856, 0.6293],\n",
      "        [0.3159, 0.0987, 0.1075, 0.5887, 0.4917, 0.5828, 0.6316],\n",
      "        [0.3183, 0.1065, 0.1116, 0.5889, 0.4951, 0.5792, 0.6243]],\n",
      "       grad_fn=<SigmoidBackward0>)\n"
     ]
    }
   ],
   "source": [
    "print(model.generate(20))"
   ]
  },
  {
   "cell_type": "code",
   "execution_count": 79,
   "id": "934716f2",
   "metadata": {},
   "outputs": [
    {
     "name": "stdout",
     "output_type": "stream",
     "text": [
      "tensor([[ 0.8112, -1.0128, -0.2777],\n",
      "        [-0.0701,  1.0026,  3.0296],\n",
      "        [ 2.0275,  2.5679,  0.4164],\n",
      "        ...,\n",
      "        [ 0.0964,  0.3786,  0.2835],\n",
      "        [ 2.2600,  0.4430, -2.0570],\n",
      "        [ 0.5297,  1.1517,  1.2847]])\n"
     ]
    }
   ],
   "source": [
    "generated_data = model.generate(400000)"
   ]
  },
  {
   "cell_type": "code",
   "execution_count": 80,
   "id": "90892d34",
   "metadata": {},
   "outputs": [],
   "source": [
    "generated_data = generated_data.detach().numpy()"
   ]
  },
  {
   "cell_type": "code",
   "execution_count": 81,
   "id": "e25a25b9",
   "metadata": {},
   "outputs": [
    {
     "name": "stdout",
     "output_type": "stream",
     "text": [
      "[[0.31934202 0.10501113 0.11072285 ... 0.49458343 0.5749984  0.62590754]\n",
      " [0.31124473 0.08755428 0.09282283 ... 0.5039865  0.5787626  0.62801844]\n",
      " [0.3171835  0.09801155 0.10024625 ... 0.49525982 0.58673525 0.6269425 ]\n",
      " ...\n",
      " [0.31719103 0.10499649 0.11273719 ... 0.4959212  0.5762047  0.62349755]\n",
      " [0.3224059  0.10107376 0.10291863 ... 0.49311152 0.58172125 0.630873  ]\n",
      " [0.3194849  0.10823129 0.11412923 ... 0.49357393 0.57698965 0.6201076 ]]\n"
     ]
    }
   ],
   "source": [
    "print(generated_data)"
   ]
  },
  {
   "cell_type": "code",
   "execution_count": 85,
   "id": "487fdef5",
   "metadata": {},
   "outputs": [],
   "source": [
    "np.save(\"generated_2.npy\", generated_data)"
   ]
  },
  {
   "cell_type": "code",
   "execution_count": 86,
   "id": "eada99f6",
   "metadata": {},
   "outputs": [],
   "source": [
    "generated = np.load(\"generated_2.npy\")"
   ]
  },
  {
   "cell_type": "code",
   "execution_count": 83,
   "id": "1fa50874",
   "metadata": {},
   "outputs": [
    {
     "data": {
      "image/png": "[encoded data removed]",
      "text/plain": [
       "<Figure size 640x480 with 1 Axes>"
      ]
     },
     "metadata": {},
     "output_type": "display_data"
    }
   ],
   "source": [
    "plt.plot(train_loss_list)\n",
    "plt.xlabel(\"epoch\")\n",
    "plt.ylabel(\"loss\")\n",
    "plt.title(\"VAE Training Loss\")\n",
    "plt.show()"
   ]
  },
  {
   "cell_type": "code",
   "execution_count": null,
   "id": "b72ea3a8",
   "metadata": {},
   "outputs": [],
   "source": [
    "plt.hist(data[:,0])\n",
    "plt.show()"
   ]
  },
  {
   "cell_type": "code",
   "execution_count": null,
   "id": "a2f400b5",
   "metadata": {},
   "outputs": [],
   "source": [
    "plt.hist(generated[:,0])\n",
    "plt.show()\n",
    "\n"
   ]
  },
  {
   "cell_type": "code",
   "execution_count": 88,
   "id": "c606c4a1",
   "metadata": {},
   "outputs": [
    {
     "data": {
      "text/plain": [
       "VAE(\n",
       "  (encoder): Encoder(\n",
       "    (linear1): Linear(in_features=7, out_features=32, bias=True)\n",
       "    (linear2): Linear(in_features=32, out_features=64, bias=True)\n",
       "    (linear3): Linear(in_features=64, out_features=32, bias=True)\n",
       "    (z_mean): Linear(in_features=32, out_features=3, bias=True)\n",
       "    (z_log_var): Linear(in_features=32, out_features=3, bias=True)\n",
       "  )\n",
       "  (decoder): Decoder(\n",
       "    (linear1): Linear(in_features=3, out_features=32, bias=True)\n",
       "    (linear2): Linear(in_features=32, out_features=64, bias=True)\n",
       "    (linear3): Linear(in_features=64, out_features=32, bias=True)\n",
       "    (linear4): Linear(in_features=32, out_features=7, bias=True)\n",
       "  )\n",
       ")"
      ]
     },
     "execution_count": 88,
     "metadata": {},
     "output_type": "execute_result"
    }
   ],
   "source": [
    "model.load_state_dict(torch.load(\"model_saved\"))\n",
    "model.eval()"
   ]
  },
  {
   "cell_type": "code",
   "execution_count": 89,
   "id": "f80c8a5a",
   "metadata": {},
   "outputs": [],
   "source": [
    "a, b, c = model.encoder(x_train[0:1000])"
   ]
  },
  {
   "cell_type": "code",
   "execution_count": 90,
   "id": "55a9c0dd",
   "metadata": {},
   "outputs": [],
   "source": [
    "a = a.detach().numpy()"
   ]
  },
  {
   "cell_type": "code",
   "execution_count": 91,
   "id": "f21a31e1",
   "metadata": {},
   "outputs": [
    {
     "data": {
      "image/png": "[encoded data removed]",
      "text/plain": [
       "<Figure size 640x480 with 1 Axes>"
      ]
     },
     "metadata": {},
     "output_type": "display_data"
    }
   ],
   "source": [
    "plt.hist(a[1:10000,2])\n",
    "plt.show()"
   ]
  },
  {
   "cell_type": "code",
   "execution_count": 33,
   "id": "c921ac29",
   "metadata": {},
   "outputs": [
    {
     "name": "stdout",
     "output_type": "stream",
     "text": [
      "tensor([[ 0.5421, -0.6303, -0.6492],\n",
      "        [-0.8124, -0.1398,  1.2613],\n",
      "        [-1.6735,  1.2397,  0.2405]])\n",
      "tensor([[0.2785, 0.1244, 0.0831, 0.5432, 0.4483, 0.5154, 0.5112],\n",
      "        [0.3598, 0.1133, 0.1087, 0.5902, 0.5025, 0.5982, 0.6056],\n",
      "        [0.3742, 0.1233, 0.1190, 0.6515, 0.5297, 0.6202, 0.6422]],\n",
      "       grad_fn=<ReluBackward0>)\n"
     ]
    }
   ],
   "source": [
    "print(model.generate(3))"
   ]
  },
  {
   "cell_type": "code",
   "execution_count": null,
   "id": "f636a328",
   "metadata": {},
   "outputs": [],
   "source": []
  },
  {
   "cell_type": "code",
   "execution_count": null,
   "id": "e7ce0f62",
   "metadata": {},
   "outputs": [],
   "source": []
  }
 ],
 "metadata": {
  "kernelspec": {
   "display_name": "anomaly",
   "language": "python",
   "name": "anomaly"
  },
  "language_info": {
   "codemirror_mode": {
    "name": "ipython",
    "version": 3
   },
   "file_extension": ".py",
   "mimetype": "text/x-python",
   "name": "python",
   "nbconvert_exporter": "python",
   "pygments_lexer": "ipython3",
   "version": "3.9.13"
  }
 },
 "nbformat": 4,
 "nbformat_minor": 5
}
